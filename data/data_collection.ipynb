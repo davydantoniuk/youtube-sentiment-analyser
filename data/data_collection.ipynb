{
 "cells": [
  {
   "cell_type": "code",
   "execution_count": 3,
   "metadata": {},
   "outputs": [],
   "source": [
    "import pandas as pd\n",
    "import requests"
   ]
  },
  {
   "cell_type": "markdown",
   "metadata": {},
   "source": [
    "## SemEval-2017 Task 4: Sentiment Analysis in Twitter data collection"
   ]
  },
  {
   "cell_type": "code",
   "execution_count": 7,
   "metadata": {},
   "outputs": [
    {
     "name": "stdout",
     "output_type": "stream",
     "text": [
      "Dataset saved to combined_sentiment_dataset.csv\n"
     ]
    }
   ],
   "source": [
    "# https://github.com/cardiffnlp/tweeteval?tab=readme-ov-file\n",
    "# SemEval 2017 - Sentiment Analysis in Twitter\n",
    "\n",
    "# URLs for the datasets\n",
    "urls = {\n",
    "    \"test_text\": \"https://raw.githubusercontent.com/cardiffnlp/tweeteval/refs/heads/main/datasets/sentiment/test_text.txt\",\n",
    "    \"test_labels\": \"https://raw.githubusercontent.com/cardiffnlp/tweeteval/refs/heads/main/datasets/sentiment/test_labels.txt\",\n",
    "    \"train_text\": \"https://raw.githubusercontent.com/cardiffnlp/tweeteval/refs/heads/main/datasets/sentiment/train_text.txt\",\n",
    "    \"train_labels\": \"https://raw.githubusercontent.com/cardiffnlp/tweeteval/refs/heads/main/datasets/sentiment/train_labels.txt\",\n",
    "    \"val_text\": \"https://raw.githubusercontent.com/cardiffnlp/tweeteval/refs/heads/main/datasets/sentiment/val_text.txt\",\n",
    "    \"val_labels\": \"https://raw.githubusercontent.com/cardiffnlp/tweeteval/refs/heads/main/datasets/sentiment/val_labels.txt\"\n",
    "}\n",
    "\n",
    "# Function to fetch data from a URL\n",
    "def fetch_data(url):\n",
    "    response = requests.get(url)\n",
    "    if response.status_code == 200:\n",
    "        return response.text.splitlines()\n",
    "    else:\n",
    "        raise Exception(f\"Failed to fetch data from {url}, Status Code: {response.status_code}\")\n",
    "\n",
    "# Fetch data from all URLs\n",
    "data = {key: fetch_data(url) for key, url in urls.items()}\n",
    "\n",
    "# Combine into a single dataset\n",
    "datasets = []\n",
    "for split in [\"train\", \"test\", \"val\"]:\n",
    "    text_key = f\"{split}_text\"\n",
    "    labels_key = f\"{split}_labels\"\n",
    "    split_data = pd.DataFrame({\n",
    "        \"text\": data[text_key],\n",
    "        \"label\": data[labels_key],\n",
    "        \"split\": split  # Add a column to identify the dataset split\n",
    "    })\n",
    "    datasets.append(split_data)\n",
    "\n",
    "# Combine all splits into a single DataFrame\n",
    "combined_dataset = pd.concat(datasets, ignore_index=True)\n",
    "\n",
    "# Add a column for sentiment\n",
    "sentiment_map = {\"2\": \"positive\", \"1\": \"neutral\", \"0\": \"negative\"}\n",
    "combined_dataset[\"sentiment\"] = combined_dataset[\"label\"].map(sentiment_map)\n",
    "\n",
    "# Save to CSV or display\n",
    "combined_dataset.to_csv(\"semeval2017_twitter/combined_sentiment_dataset.csv\", index=False)\n",
    "print(\"Dataset saved to combined_sentiment_dataset.csv\")"
   ]
  }
 ],
 "metadata": {
  "kernelspec": {
   "display_name": "PYTHON3.10",
   "language": "python",
   "name": "python3"
  },
  "language_info": {
   "codemirror_mode": {
    "name": "ipython",
    "version": 3
   },
   "file_extension": ".py",
   "mimetype": "text/x-python",
   "name": "python",
   "nbconvert_exporter": "python",
   "pygments_lexer": "ipython3",
   "version": "3.10.16"
  }
 },
 "nbformat": 4,
 "nbformat_minor": 2
}
