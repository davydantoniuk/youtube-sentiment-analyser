{
 "cells": [
  {
   "cell_type": "markdown",
   "metadata": {},
   "source": [
    "# Multiingual datasets collection"
   ]
  },
  {
   "cell_type": "markdown",
   "metadata": {},
   "source": [
    "## Amazon Reviews Multi"
   ]
  },
  {
   "cell_type": "code",
   "execution_count": 7,
   "metadata": {},
   "outputs": [],
   "source": [
    "import pandas as pd\n",
    "import os"
   ]
  },
  {
   "cell_type": "code",
   "execution_count": null,
   "metadata": {},
   "outputs": [
    {
     "name": "stderr",
     "output_type": "stream",
     "text": [
      "c:\\Users\\davyd\\miniconda3\\envs\\PYTHON3.10\\lib\\site-packages\\tqdm\\auto.py:21: TqdmWarning: IProgress not found. Please update jupyter and ipywidgets. See https://ipywidgets.readthedocs.io/en/stable/user_install.html\n",
      "  from .autonotebook import tqdm as notebook_tqdm\n"
     ]
    },
    {
     "name": "stdout",
     "output_type": "stream",
     "text": [
      "Warning: Looks like you're using an outdated `kagglehub` version, please consider updating (latest version: 0.3.7)\n",
      "Downloading from https://www.kaggle.com/api/v1/datasets/download/mexwell/amazon-reviews-multi?dataset_version_number=1...\n"
     ]
    },
    {
     "name": "stderr",
     "output_type": "stream",
     "text": [
      "100%|██████████| 131M/131M [04:05<00:00, 561kB/s]  "
     ]
    },
    {
     "name": "stdout",
     "output_type": "stream",
     "text": [
      "Extracting model files...\n"
     ]
    },
    {
     "name": "stderr",
     "output_type": "stream",
     "text": [
      "\n"
     ]
    },
    {
     "name": "stdout",
     "output_type": "stream",
     "text": [
      "Path to dataset files: C:\\Users\\davyd\\.cache\\kagglehub\\datasets\\mexwell\\amazon-reviews-multi\\versions\\1\n"
     ]
    }
   ],
   "source": [
    "import kagglehub\n",
    "\n",
    "# Download latest version\n",
    "path = kagglehub.dataset_download(\"mexwell/amazon-reviews-multi\")\n",
    "\n",
    "print(\"Path to dataset files:\", path)"
   ]
  },
  {
   "cell_type": "code",
   "execution_count": 8,
   "metadata": {},
   "outputs": [
    {
     "name": "stdout",
     "output_type": "stream",
     "text": [
      "Files in directory: ['test.csv', 'train.csv', 'validation.csv']\n"
     ]
    }
   ],
   "source": [
    "files = os.listdir(path)\n",
    "print(\"Files in directory:\", files)"
   ]
  },
  {
   "cell_type": "code",
   "execution_count": 10,
   "metadata": {},
   "outputs": [],
   "source": [
    "data_amazon_train = pd.read_csv(os.path.join(path, \"train.csv\"))"
   ]
  },
  {
   "cell_type": "code",
   "execution_count": 11,
   "metadata": {},
   "outputs": [],
   "source": [
    "data_amazon_val = pd.read_csv(os.path.join(path, \"validation.csv\"))"
   ]
  },
  {
   "cell_type": "code",
   "execution_count": 13,
   "metadata": {},
   "outputs": [],
   "source": [
    "data_amazon_test = pd.read_csv(os.path.join(path, \"test.csv\"))"
   ]
  },
  {
   "cell_type": "markdown",
   "metadata": {},
   "source": [
    "## multilingual-sentiments"
   ]
  },
  {
   "cell_type": "code",
   "execution_count": null,
   "metadata": {},
   "outputs": [
    {
     "name": "stderr",
     "output_type": "stream",
     "text": [
      "Downloading data: 100%|██████████| 37.1M/37.1M [00:50<00:00, 728kB/s]\n",
      "Downloading data: 100%|██████████| 1.26M/1.26M [00:01<00:00, 653kB/s]\n",
      "Downloading data: 100%|██████████| 1.46M/1.46M [00:02<00:00, 624kB/s]\n",
      "Generating train split: 100%|██████████| 270399/270399 [00:00<00:00, 754095.57 examples/s]\n",
      "Generating validation split: 100%|██████████| 10857/10857 [00:00<00:00, 1032574.28 examples/s]\n",
      "Generating test split: 100%|██████████| 14465/14465 [00:00<00:00, 1134645.09 examples/s]\n"
     ]
    }
   ],
   "source": [
    "from datasets import load_dataset\n",
    "data_hug_face = load_dataset(\"tyqiangz/multilingual-sentiments\", \"all\")"
   ]
  },
  {
   "cell_type": "code",
   "execution_count": 30,
   "metadata": {},
   "outputs": [
    {
     "data": {
      "text/plain": [
       "\"DatasetDict({\\n    train: Dataset({\\n        features: ['text', 'source', 'language', 'label'],\\n        num_rows: 270399\\n    })\\n    validation: Dataset({\\n        features: ['text', 'source', 'language', 'label'],\\n        num_rows: 10857\\n    })\\n    test: Dataset({\\n        features: ['text', 'source', 'language', 'label'],\\n        num_rows: 14465\\n    })\\n})\""
      ]
     },
     "execution_count": 30,
     "metadata": {},
     "output_type": "execute_result"
    }
   ],
   "source": [
    "str(data_hug_face)"
   ]
  },
  {
   "cell_type": "code",
   "execution_count": 33,
   "metadata": {},
   "outputs": [],
   "source": [
    "data_hug_face_train = data_hug_face['train'].to_pandas()"
   ]
  },
  {
   "cell_type": "code",
   "execution_count": 34,
   "metadata": {},
   "outputs": [],
   "source": [
    "data_hug_face_val = data_hug_face[\"validation\"].to_pandas()"
   ]
  },
  {
   "cell_type": "code",
   "execution_count": 35,
   "metadata": {},
   "outputs": [],
   "source": [
    "data_hug_face_test = data_hug_face[\"test\"].to_pandas()"
   ]
  },
  {
   "cell_type": "markdown",
   "metadata": {},
   "source": [
    "## Data Collection"
   ]
  },
  {
   "cell_type": "code",
   "execution_count": 68,
   "metadata": {},
   "outputs": [],
   "source": [
    "data_amazon = pd.concat([data_amazon_train, data_amazon_val, data_amazon_test])\n",
    "data_hug = pd.concat([data_hug_face_train, data_hug_face_val, data_hug_face_test])"
   ]
  },
  {
   "cell_type": "markdown",
   "metadata": {},
   "source": [
    "Amazon Data Transformation"
   ]
  },
  {
   "cell_type": "code",
   "execution_count": 41,
   "metadata": {},
   "outputs": [
    {
     "data": {
      "text/html": [
       "<div>\n",
       "<style scoped>\n",
       "    .dataframe tbody tr th:only-of-type {\n",
       "        vertical-align: middle;\n",
       "    }\n",
       "\n",
       "    .dataframe tbody tr th {\n",
       "        vertical-align: top;\n",
       "    }\n",
       "\n",
       "    .dataframe thead th {\n",
       "        text-align: right;\n",
       "    }\n",
       "</style>\n",
       "<table border=\"1\" class=\"dataframe\">\n",
       "  <thead>\n",
       "    <tr style=\"text-align: right;\">\n",
       "      <th></th>\n",
       "      <th>Unnamed: 0</th>\n",
       "      <th>review_id</th>\n",
       "      <th>product_id</th>\n",
       "      <th>reviewer_id</th>\n",
       "      <th>stars</th>\n",
       "      <th>review_body</th>\n",
       "      <th>review_title</th>\n",
       "      <th>language</th>\n",
       "      <th>product_category</th>\n",
       "    </tr>\n",
       "  </thead>\n",
       "  <tbody>\n",
       "    <tr>\n",
       "      <th>0</th>\n",
       "      <td>0</td>\n",
       "      <td>de_0203609</td>\n",
       "      <td>product_de_0865382</td>\n",
       "      <td>reviewer_de_0267719</td>\n",
       "      <td>1</td>\n",
       "      <td>Armband ist leider nach 1 Jahr kaputt gegangen</td>\n",
       "      <td>Leider nach 1 Jahr kaputt</td>\n",
       "      <td>de</td>\n",
       "      <td>sports</td>\n",
       "    </tr>\n",
       "    <tr>\n",
       "      <th>1</th>\n",
       "      <td>1</td>\n",
       "      <td>de_0559494</td>\n",
       "      <td>product_de_0678997</td>\n",
       "      <td>reviewer_de_0783625</td>\n",
       "      <td>1</td>\n",
       "      <td>In der Lieferung war nur Ein Akku!</td>\n",
       "      <td>EINS statt ZWEI Akkus!!!</td>\n",
       "      <td>de</td>\n",
       "      <td>home_improvement</td>\n",
       "    </tr>\n",
       "    <tr>\n",
       "      <th>2</th>\n",
       "      <td>2</td>\n",
       "      <td>de_0238777</td>\n",
       "      <td>product_de_0372235</td>\n",
       "      <td>reviewer_de_0911426</td>\n",
       "      <td>1</td>\n",
       "      <td>Ein Stern, weil gar keine geht nicht. Es hande...</td>\n",
       "      <td>Achtung Abzocke</td>\n",
       "      <td>de</td>\n",
       "      <td>drugstore</td>\n",
       "    </tr>\n",
       "    <tr>\n",
       "      <th>3</th>\n",
       "      <td>3</td>\n",
       "      <td>de_0477884</td>\n",
       "      <td>product_de_0719501</td>\n",
       "      <td>reviewer_de_0836478</td>\n",
       "      <td>1</td>\n",
       "      <td>Dachte, das wären einfach etwas festere Binden...</td>\n",
       "      <td>Zu viel des Guten</td>\n",
       "      <td>de</td>\n",
       "      <td>drugstore</td>\n",
       "    </tr>\n",
       "    <tr>\n",
       "      <th>4</th>\n",
       "      <td>4</td>\n",
       "      <td>de_0270868</td>\n",
       "      <td>product_de_0022613</td>\n",
       "      <td>reviewer_de_0736276</td>\n",
       "      <td>1</td>\n",
       "      <td>Meine Kinder haben kaum damit gespielt und nac...</td>\n",
       "      <td>Qualität sehr schlecht</td>\n",
       "      <td>de</td>\n",
       "      <td>toy</td>\n",
       "    </tr>\n",
       "  </tbody>\n",
       "</table>\n",
       "</div>"
      ],
      "text/plain": [
       "   Unnamed: 0   review_id          product_id          reviewer_id  stars  \\\n",
       "0           0  de_0203609  product_de_0865382  reviewer_de_0267719      1   \n",
       "1           1  de_0559494  product_de_0678997  reviewer_de_0783625      1   \n",
       "2           2  de_0238777  product_de_0372235  reviewer_de_0911426      1   \n",
       "3           3  de_0477884  product_de_0719501  reviewer_de_0836478      1   \n",
       "4           4  de_0270868  product_de_0022613  reviewer_de_0736276      1   \n",
       "\n",
       "                                         review_body  \\\n",
       "0     Armband ist leider nach 1 Jahr kaputt gegangen   \n",
       "1                 In der Lieferung war nur Ein Akku!   \n",
       "2  Ein Stern, weil gar keine geht nicht. Es hande...   \n",
       "3  Dachte, das wären einfach etwas festere Binden...   \n",
       "4  Meine Kinder haben kaum damit gespielt und nac...   \n",
       "\n",
       "                review_title language  product_category  \n",
       "0  Leider nach 1 Jahr kaputt       de            sports  \n",
       "1   EINS statt ZWEI Akkus!!!       de  home_improvement  \n",
       "2            Achtung Abzocke       de         drugstore  \n",
       "3          Zu viel des Guten       de         drugstore  \n",
       "4     Qualität sehr schlecht       de               toy  "
      ]
     },
     "execution_count": 41,
     "metadata": {},
     "output_type": "execute_result"
    }
   ],
   "source": [
    "data_amazon.head()"
   ]
  },
  {
   "cell_type": "code",
   "execution_count": null,
   "metadata": {},
   "outputs": [],
   "source": [
    "data_amazon = data_amazon[[\"stars\", \"review_body\"]]"
   ]
  },
  {
   "cell_type": "code",
   "execution_count": null,
   "metadata": {},
   "outputs": [],
   "source": [
    "data_amazon.columns = [\"label\", \"text\"]"
   ]
  },
  {
   "cell_type": "code",
   "execution_count": 45,
   "metadata": {},
   "outputs": [],
   "source": [
    "data_amazon = data_amazon[[\"text\", \"label\"]]"
   ]
  },
  {
   "cell_type": "code",
   "execution_count": 44,
   "metadata": {},
   "outputs": [
    {
     "data": {
      "text/plain": [
       "label\n",
       "1    252000\n",
       "2    252000\n",
       "3    252000\n",
       "4    252000\n",
       "5    252000\n",
       "Name: count, dtype: int64"
      ]
     },
     "execution_count": 44,
     "metadata": {},
     "output_type": "execute_result"
    }
   ],
   "source": [
    "data_amazon[\"label\"].value_counts()"
   ]
  },
  {
   "cell_type": "code",
   "execution_count": 47,
   "metadata": {},
   "outputs": [],
   "source": [
    "data_amazon[\"label\"] = data_amazon[\"label\"].map({1: 0, 2: 0, 3: 1, 4: 1, 5: 2})"
   ]
  },
  {
   "cell_type": "markdown",
   "metadata": {},
   "source": [
    "multilingual-sentiments transformation"
   ]
  },
  {
   "cell_type": "code",
   "execution_count": 57,
   "metadata": {},
   "outputs": [
    {
     "data": {
      "text/html": [
       "<div>\n",
       "<style scoped>\n",
       "    .dataframe tbody tr th:only-of-type {\n",
       "        vertical-align: middle;\n",
       "    }\n",
       "\n",
       "    .dataframe tbody tr th {\n",
       "        vertical-align: top;\n",
       "    }\n",
       "\n",
       "    .dataframe thead th {\n",
       "        text-align: right;\n",
       "    }\n",
       "</style>\n",
       "<table border=\"1\" class=\"dataframe\">\n",
       "  <thead>\n",
       "    <tr style=\"text-align: right;\">\n",
       "      <th></th>\n",
       "      <th>text</th>\n",
       "      <th>source</th>\n",
       "      <th>language</th>\n",
       "      <th>label</th>\n",
       "    </tr>\n",
       "  </thead>\n",
       "  <tbody>\n",
       "    <tr>\n",
       "      <th>0</th>\n",
       "      <td>yang memerlukan pemerhatian dan tindakan serius</td>\n",
       "      <td>malaya</td>\n",
       "      <td>malay</td>\n",
       "      <td>0</td>\n",
       "    </tr>\n",
       "    <tr>\n",
       "      <th>1</th>\n",
       "      <td>sentiasa memikirkan dan merancang inisiatif ba...</td>\n",
       "      <td>malaya</td>\n",
       "      <td>malay</td>\n",
       "      <td>0</td>\n",
       "    </tr>\n",
       "    <tr>\n",
       "      <th>2</th>\n",
       "      <td>Kita akan tengok daripada pelbagai aspek supay...</td>\n",
       "      <td>malaya</td>\n",
       "      <td>malay</td>\n",
       "      <td>0</td>\n",
       "    </tr>\n",
       "    <tr>\n",
       "      <th>3</th>\n",
       "      <td>justeru asean perlu mengambil tindakan sebagai...</td>\n",
       "      <td>malaya</td>\n",
       "      <td>malay</td>\n",
       "      <td>0</td>\n",
       "    </tr>\n",
       "    <tr>\n",
       "      <th>4</th>\n",
       "      <td>@_Niiar_ Jangan punah dulu, aku belum ke labua...</td>\n",
       "      <td>malaya</td>\n",
       "      <td>malay</td>\n",
       "      <td>1</td>\n",
       "    </tr>\n",
       "  </tbody>\n",
       "</table>\n",
       "</div>"
      ],
      "text/plain": [
       "                                                text  source language  label\n",
       "0    yang memerlukan pemerhatian dan tindakan serius  malaya    malay      0\n",
       "1  sentiasa memikirkan dan merancang inisiatif ba...  malaya    malay      0\n",
       "2  Kita akan tengok daripada pelbagai aspek supay...  malaya    malay      0\n",
       "3  justeru asean perlu mengambil tindakan sebagai...  malaya    malay      0\n",
       "4  @_Niiar_ Jangan punah dulu, aku belum ke labua...  malaya    malay      1"
      ]
     },
     "execution_count": 57,
     "metadata": {},
     "output_type": "execute_result"
    }
   ],
   "source": [
    "data_hug.head()"
   ]
  },
  {
   "cell_type": "code",
   "execution_count": 70,
   "metadata": {},
   "outputs": [
    {
     "data": {
      "text/plain": [
       "language\n",
       "japanese      126000\n",
       "chinese       126000\n",
       "indonesian     12760\n",
       "malay           6697\n",
       "hindi           3033\n",
       "german          3033\n",
       "italian         3033\n",
       "english         3033\n",
       "portuguese      3033\n",
       "french          3033\n",
       "spanish         3033\n",
       "arabic          3033\n",
       "Name: count, dtype: int64"
      ]
     },
     "execution_count": 70,
     "metadata": {},
     "output_type": "execute_result"
    }
   ],
   "source": [
    "data_hug[\"language\"].value_counts()  "
   ]
  },
  {
   "cell_type": "code",
   "execution_count": 58,
   "metadata": {},
   "outputs": [],
   "source": [
    "data_hug = data_hug[[\"text\", \"label\"]]"
   ]
  },
  {
   "cell_type": "code",
   "execution_count": 59,
   "metadata": {},
   "outputs": [
    {
     "data": {
      "text/plain": [
       "label\n",
       "0    102527\n",
       "2     98719\n",
       "1     94475\n",
       "Name: count, dtype: int64"
      ]
     },
     "execution_count": 59,
     "metadata": {},
     "output_type": "execute_result"
    }
   ],
   "source": [
    "data_hug[\"label\"].value_counts()"
   ]
  },
  {
   "cell_type": "code",
   "execution_count": 61,
   "metadata": {},
   "outputs": [],
   "source": [
    "data = pd.concat([data_amazon, data_hug])"
   ]
  },
  {
   "cell_type": "code",
   "execution_count": 66,
   "metadata": {},
   "outputs": [],
   "source": [
    "data.to_csv(\"Multiilingual_dataset/mulilingual_dataset.csv\", index=False)"
   ]
  }
 ],
 "metadata": {
  "kernelspec": {
   "display_name": "PYTHON3.10",
   "language": "python",
   "name": "python3"
  },
  "language_info": {
   "codemirror_mode": {
    "name": "ipython",
    "version": 3
   },
   "file_extension": ".py",
   "mimetype": "text/x-python",
   "name": "python",
   "nbconvert_exporter": "python",
   "pygments_lexer": "ipython3",
   "version": "3.10.16"
  }
 },
 "nbformat": 4,
 "nbformat_minor": 2
}
